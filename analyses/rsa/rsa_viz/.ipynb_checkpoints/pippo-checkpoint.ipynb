{
 "cells": [
  {
   "cell_type": "code",
   "execution_count": null,
   "id": "349302e2-ddec-494d-a83c-38469301c79b",
   "metadata": {},
   "outputs": [],
   "source": [
    "import numpy as np\n",
    "import seaborn as sns\n",
    "import nibabel as nib\n",
    "import json\n",
    "\n",
    "bd=\"/data00/leonardo/RSA/analyses\"\n",
    "\n",
    "ncopes = 56\n",
    "copes_type = \"one_ev_per_movie\"\n",
    "bd_copes = f'{bd}/{copes_type}/results/2nd_level/sub-ZEROPADDEDSUB_one_ev_per_movie.gfeat'\n",
    "\n",
    "subs = [\"02\", \"03\"]\n"
   ]
  },
  {
   "cell_type": "code",
   "execution_count": null,
   "id": "37bb87eb-51f3-4ee7-a470-dd79f04cef9f",
   "metadata": {},
   "outputs": [],
   "source": [
    "# Aux functions\n",
    "\n",
    "def pprint(dict):\n",
    "    print(json.dumps(dict, indent=4))\n"
   ]
  },
  {
   "cell_type": "code",
   "execution_count": 66,
   "id": "c5f2373b-c4af-42a9-9da6-370c4e30aef6",
   "metadata": {},
   "outputs": [],
   "source": [
    "dict_copes = {}\n",
    "\n",
    "for ith_sub in subs:\n",
    "    dict_copes[f'sub-{ith_sub}'] = {}\n",
    "    for j in range(1,ncopes + 1):\n",
    "        bd_copes_sub = bd_copes.replace(\"ZEROPADDEDSUB\",ith_sub)\n",
    "        dict_copes[f'sub-{ith_sub}'][f'cope_{j}'] = f'{bd_copes_sub}/cope{j}.feat/stats/cope1.nii.gz'\n",
    "\n"
   ]
  },
  {
   "cell_type": "code",
   "execution_count": null,
   "id": "c01bac32-a5a4-41c5-a7bd-5083063ee4f7",
   "metadata": {},
   "outputs": [],
   "source": [
    "nii_file = dict_copes[\"sub-02\"][\"cope_1\"]\n",
    "\n",
    "img = nib.load(nii_file)\n",
    "\n",
    "\n"
   ]
  },
  {
   "cell_type": "code",
   "execution_count": null,
   "id": "4d4fc53c-f4dd-4383-b7aa-ad5abdcc9999",
   "metadata": {},
   "outputs": [],
   "source": [
    "dict_copes['sub-02'].items()"
   ]
  },
  {
   "cell_type": "code",
   "execution_count": 75,
   "id": "f4651d17-9e5d-4288-a9e9-eafd69c6e90d",
   "metadata": {},
   "outputs": [],
   "source": [
    "\n",
    "flat_images = []\n",
    "\n",
    "for cope, nii_file in dict_copes['sub-02'].items():\n",
    "    img = nib.load(nii_file)\n",
    "    data = img.get_fdata()\n",
    "    flat = data.flatten()\n",
    "    flat_images.append(flat)\n",
    "\n",
    "\n",
    "flat_images_array = np.array(flat_images)\n",
    "flat_images_array.shape"
   ]
  },
  {
   "cell_type": "code",
   "execution_count": null,
   "id": "11d8f708-4c23-4567-91a8-60676e9f8e7d",
   "metadata": {},
   "outputs": [],
   "source": []
  },
  {
   "cell_type": "code",
   "execution_count": null,
   "id": "b411b836-ccb8-46ee-885f-6edb431b5f67",
   "metadata": {},
   "outputs": [],
   "source": []
  }
 ],
 "metadata": {
  "kernelspec": {
   "display_name": "Python 3 (ipykernel)",
   "language": "python",
   "name": "python3"
  },
  "language_info": {
   "codemirror_mode": {
    "name": "ipython",
    "version": 3
   },
   "file_extension": ".py",
   "mimetype": "text/x-python",
   "name": "python",
   "nbconvert_exporter": "python",
   "pygments_lexer": "ipython3",
   "version": "3.10.12"
  }
 },
 "nbformat": 4,
 "nbformat_minor": 5
}
